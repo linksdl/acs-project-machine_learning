{
 "cells": [
  {
   "cell_type": "markdown",
   "metadata": {},
   "source": [
    "### Multi-layer Perceptron Exercise\n",
    "#### In this exercise, we will implement the multi-perceptron algorithm with two hidden layers. \n",
    "#### The implementation of the MLP algorithm will be in the mlp.py file but you will test your implementation \n",
    "#### in this notebook. In this exercise we will use the MNIST dataset that we used for week 2 lab (KNN). "
   ]
  },
  {
   "cell_type": "code",
   "execution_count": 27,
   "metadata": {},
   "outputs": [
    {
     "name": "stdout",
     "output_type": "stream",
     "text": [
      "The autoreload extension is already loaded. To reload it, use:\n",
      "  %reload_ext autoreload\n"
     ]
    }
   ],
   "source": [
    "# importing the MLP algorithm from mlp.py file \n",
    "# where you will implement the MLP algorithm \n",
    "from mlp import MLP \n",
    "import numpy as np\n",
    "\n",
    "# This is to reload all changed modules every time before executing a new line.\n",
    "# https://stackoverflow.com/questions/5364050/reloading-submodules-in-ipython\n",
    "%load_ext autoreload\n",
    "%autoreload 2"
   ]
  },
  {
   "cell_type": "code",
   "execution_count": 28,
   "metadata": {},
   "outputs": [
    {
     "name": "stdout",
     "output_type": "stream",
     "text": [
      "(50000, 784) (10000, 784) (10000, 784)\n"
     ]
    }
   ],
   "source": [
    "# loading the MNIST datatset\n",
    "import pickle, gzip\n",
    "\n",
    "f = gzip.open('mnist.pkl.gz','rb')\n",
    "tset, vset, teset = pickle.load(f, encoding='latin1')\n",
    "print(tset[0].shape, vset[0].shape, teset[0].shape)\n",
    "f.close()"
   ]
  },
  {
   "cell_type": "code",
   "execution_count": 29,
   "metadata": {},
   "outputs": [
    {
     "data": {
      "image/png": "[encoded data removed]",
      "text/plain": [
       "<Figure size 432x288 with 10 Axes>"
      ]
     },
     "metadata": {
      "needs_background": "light"
     },
     "output_type": "display_data"
    }
   ],
   "source": [
    "import matplotlib.pyplot as plt # To install: pip install matplotlib\n",
    "\n",
    "# visualise some examples from the dataset \n",
    "fig, ax = plt.subplots(2,5)\n",
    "for i, ax in enumerate(ax.flatten()):\n",
    "    im_idx = np.argwhere(teset[1] == i)[0]\n",
    "    plottable_image = np.reshape(teset[0][im_idx], (28, 28))\n",
    "    ax.imshow(plottable_image, cmap='gray_r')"
   ]
  },
  {
   "cell_type": "code",
   "execution_count": 30,
   "metadata": {},
   "outputs": [],
   "source": [
    "# we will use only 9000 images for training and 1000 for testing \n",
    "\n",
    "# Just use the first 9000 images for training \n",
    "tread = 9000\n",
    "train_in = tset[0][:tread,:]\n",
    "\n",
    "# This is a little bit of work -- 1 of N encoding\n",
    "# Make sure you understand how it does it\n",
    "train_tgt = np.zeros((tread,10))\n",
    "for i in range(tread):\n",
    "    train_tgt[i,tset[1][i]] = 1\n",
    "\n",
    "# and use 1000 images for testing\n",
    "teread = 1000\n",
    "test_in = teset[0][:teread,:]\n",
    "test_tgt = np.zeros((teread,10))\n",
    "for i in range(teread):\n",
    "    test_tgt[i,teset[1][i]] = 1"
   ]
  },
  {
   "cell_type": "markdown",
   "metadata": {},
   "source": [
    "#### Initialise the MLP classifier "
   ]
  },
  {
   "cell_type": "code",
   "execution_count": 31,
   "metadata": {},
   "outputs": [],
   "source": [
    "# We choose the first and second hidden layers to have 5 neurons each.\n",
    "sizes = [784,5,5,10] # 784 is the number of pixels of the images and 10 is the number of classes \n",
    "classifier = MLP(sizes)\n",
    "\n",
    "# print(classifier.beta,classifier.momentum,classifier.nin, classifier.nhidden1, classifier.nhidden2, classifier.nout)\n",
    "# print(classifier.weights1.shape)\n",
    "# print(classifier.weights2.shape)\n",
    "# print(classifier.weights3.shape)\n"
   ]
  },
  {
   "cell_type": "code",
   "execution_count": 32,
   "metadata": {},
   "outputs": [
    {
     "name": "stdout",
     "output_type": "stream",
     "text": [
      "Iteration:  0  Error:  4120.308899904165\n"
     ]
    },
    {
     "name": "stderr",
     "output_type": "stream",
     "text": [
      "/Users/shengdaolin_sh/dir_developer/workspaces/pycharm/acs-project-machine_learning/assessments/Courework1-Muti-layer Neural Networks/cw1/mlp.py:138: RuntimeWarning: overflow encountered in exp\n",
      "  self.hidden2 = np.concatenate((self.hidden2, -np.ones((np.shape(self.hidden1)[0], 1))), axis=1)  # (9000,6)\n"
     ]
    },
    {
     "name": "stdout",
     "output_type": "stream",
     "text": [
      "Iteration:  100  Error:  8101.0\n",
      "Iteration:  200  Error:  8101.0\n",
      "Iteration:  300  Error:  8101.0\n",
      "Iteration:  400  Error:  8101.0\n",
      "Iteration:  500  Error:  8101.0\n",
      "Iteration:  600  Error:  8101.0\n",
      "Iteration:  700  Error:  8101.0\n",
      "Iteration:  800  Error:  8101.0\n",
      "Iteration:  900  Error:  8101.0\n"
     ]
    }
   ],
   "source": [
    "# TODO: open the mlp.py file and implement self.forwardPass and self.train methods\n",
    "# test your implementation here \n",
    "# for now, let's keep the learning rate and the number of iterations unchanged  \n",
    "classifier.train(train_in, train_tgt, 0.1, 1000)\n",
    "#print(classifier.hidden1.shape)\n",
    "#print(classifier.hidden2.shape)"
   ]
  },
  {
   "cell_type": "code",
   "execution_count": 33,
   "metadata": {},
   "outputs": [
    {
     "name": "stdout",
     "output_type": "stream",
     "text": [
      "The confusion matrix is:\n",
      "[[  0.   0.   0.   0.   0.   0.   0.   0.   0.   0.]\n",
      " [  0.   0.   0.   0.   0.   0.   0.   0.   0.   0.]\n",
      " [  0.   0.   0.   0.   0.   0.   0.   0.   0.   0.]\n",
      " [  0.   0.   0.   0.   0.   0.   0.   0.   0.   0.]\n",
      " [ 85. 126. 116. 107. 110.  87.  87.  99.  89.  94.]\n",
      " [  0.   0.   0.   0.   0.   0.   0.   0.   0.   0.]\n",
      " [  0.   0.   0.   0.   0.   0.   0.   0.   0.   0.]\n",
      " [  0.   0.   0.   0.   0.   0.   0.   0.   0.   0.]\n",
      " [  0.   0.   0.   0.   0.   0.   0.   0.   0.   0.]\n",
      " [  0.   0.   0.   0.   0.   0.   0.   0.   0.   0.]]\n",
      "The accuracy is  11.0\n"
     ]
    }
   ],
   "source": [
    "# we evaluate our model on the testing set \n",
    "# and show the confusion matrix and the accuracy\n",
    "classifier.evaluate(test_in, test_tgt)"
   ]
  },
  {
   "cell_type": "code",
   "execution_count": 8,
   "metadata": {},
   "outputs": [],
   "source": [
    "# you should expect the accuracy to be really low ~ most likely less than %50\n",
    "# I think we can do better by experimenting with different learning rate and \n",
    "# number of neurons in each hidden layer. "
   ]
  },
  {
   "cell_type": "code",
   "execution_count": 9,
   "metadata": {},
   "outputs": [],
   "source": [
    "# TODO: modify the network parameters to get the test accuracy above %90 \n",
    "# you can change the learning rate, the number of neurons of each hidden layer\n",
    "# and number of iterations. You can also implement the gradient descent algorithm\n",
    "# with momentum and experiment it with different momentum values. "
   ]
  },
  {
   "cell_type": "code",
   "execution_count": 42,
   "metadata": {},
   "outputs": [
    {
     "name": "stdout",
     "output_type": "stream",
     "text": [
      "Iteration:  0  Error:  4093.3026386592255\n",
      "Iteration:  100  Error:  322.82164131272924\n",
      "Iteration:  200  Error:  106.60478844004166\n",
      "Iteration:  300  Error:  50.75775914691323\n",
      "Iteration:  400  Error:  36.498573697799834\n",
      "Iteration:  500  Error:  27.09483420345857\n",
      "Iteration:  600  Error:  22.10328366751846\n",
      "Iteration:  700  Error:  17.29226065388398\n",
      "Iteration:  800  Error:  14.672972106874482\n",
      "Iteration:  900  Error:  13.313141730214376\n",
      "Iteration:  1000  Error:  11.663833143555207\n",
      "Iteration:  1100  Error:  10.978263538717298\n",
      "The confusion matrix is:\n",
      "[[ 82.   0.   2.   1.   0.   0.   4.   0.   1.   0.]\n",
      " [  0. 124.   1.   1.   0.   0.   0.   3.   0.   0.]\n",
      " [  0.   0. 101.   0.   1.   0.   0.   3.   2.   0.]\n",
      " [  0.   1.   0.  98.   0.   5.   0.   0.   1.   0.]\n",
      " [  1.   0.   0.   0. 103.   1.   3.   0.   1.   1.]\n",
      " [  1.   0.   0.   4.   0.  79.   0.   0.   0.   2.]\n",
      " [  1.   1.   1.   1.   0.   1.  80.   0.   0.   0.]\n",
      " [  0.   0.   4.   1.   0.   1.   0.  89.   1.   2.]\n",
      " [  0.   0.   5.   1.   1.   0.   0.   0.  82.   3.]\n",
      " [  0.   0.   2.   0.   5.   0.   0.   4.   1.  86.]]\n",
      "The accuracy is  92.4\n"
     ]
    }
   ],
   "source": [
    "best_sizes = [784,50,50,10]\n",
    "best_beta = 1\n",
    "best_momentum = 0.9\n",
    "best_lr = 0.001 # best learning rate\n",
    "best_niterations = 1200\n",
    "best_classifier = MLP(sizes = best_sizes, beta=best_beta, momentum=best_momentum)\n",
    "best_classifier.train(train_in, train_tgt, best_lr, best_niterations)\n",
    "best_classifier.evaluate(test_in, test_tgt)"
   ]
  },
  {
   "cell_type": "code",
   "execution_count": 43,
   "metadata": {},
   "outputs": [],
   "source": [
    "# TODO: run the following code to save the best parameters and \n",
    "# the weights of the network that achieves the desired accuracy\n",
    "best_parameters = {\n",
    "    'sizes': best_sizes,\n",
    "    'beta': best_beta,\n",
    "    'momentum': best_momentum,\n",
    "    'lr': best_lr,\n",
    "    'niterations': best_niterations,\n",
    "    'weights_1': best_classifier.weights1,\n",
    "    'weights_2': best_classifier.weights2,\n",
    "    'weights_3': best_classifier.weights3,\n",
    "}\n",
    "\n",
    "with open('best_classifier.pkl', 'wb') as handle:\n",
    "    pickle.dump(best_parameters, handle, protocol=pickle.HIGHEST_PROTOCOL)"
   ]
  },
  {
   "cell_type": "code",
   "execution_count": 44,
   "metadata": {},
   "outputs": [
    {
     "data": {
      "text/plain": [
       "{'sizes': [784, 50, 50, 10],\n",
       " 'beta': 1,\n",
       " 'momentum': 0.9,\n",
       " 'lr': 0.001,\n",
       " 'niterations': 1200,\n",
       " 'weights_1': array([[-0.00661316, -0.00937695, -0.03142876, ...,  0.02768647,\n",
       "          0.00115246, -0.00561046],\n",
       "        [ 0.03364187,  0.01954069,  0.02274892, ...,  0.03102216,\n",
       "         -0.02083129,  0.02326041],\n",
       "        [ 0.018696  , -0.01136514, -0.0277163 , ..., -0.03004802,\n",
       "          0.01230188,  0.02556829],\n",
       "        ...,\n",
       "        [-0.00546291,  0.00257467,  0.03482317, ..., -0.02482449,\n",
       "         -0.02715763,  0.03008705],\n",
       "        [-0.01874381, -0.01545277, -0.03422745, ..., -0.0252463 ,\n",
       "          0.00332421,  0.02695031],\n",
       "        [ 0.11000471,  0.39047774, -0.0395647 , ...,  0.20724647,\n",
       "          0.55113842, -0.30104234]]),\n",
       " 'weights_2': array([[ 1.16282435, -0.54376593, -0.62322534, ..., -0.34466175,\n",
       "         -0.13756544, -0.18553681],\n",
       "        [ 0.72960306, -0.37031609, -0.41476437, ...,  0.14899346,\n",
       "         -0.16586589, -0.432442  ],\n",
       "        [-0.49459616, -0.36997539,  0.88343151, ..., -0.11724093,\n",
       "         -1.06644923,  1.83152849],\n",
       "        ...,\n",
       "        [ 0.31695995,  0.47978681, -0.35178659, ..., -0.17333847,\n",
       "          0.97081908, -1.04145762],\n",
       "        [ 0.69582251,  0.2667546 , -0.05397904, ...,  0.67290097,\n",
       "         -0.25668651,  0.07537153],\n",
       "        [-0.04483621, -0.19656577, -0.36694316, ..., -0.22989001,\n",
       "          0.0577188 , -0.37456608]]),\n",
       " 'weights_3': array([[-1.07833761e+00,  3.24276356e+00,  2.88571426e+00,\n",
       "          3.03494093e+00,  1.74520701e+00,  9.60744270e-01,\n",
       "          2.58032463e+00, -1.19228374e-01,  1.29970660e+00,\n",
       "          2.43404110e+00],\n",
       "        [ 1.14107389e+00,  4.35672188e-01, -8.75571827e-01,\n",
       "          2.29703225e+00,  4.61921283e-01,  1.36130233e+00,\n",
       "         -1.39956156e+00,  3.71349925e+00,  6.55818188e-01,\n",
       "          2.36006383e+00],\n",
       "        [ 3.62332580e+00, -1.04312144e+00, -7.39545294e-02,\n",
       "          2.69005514e-01,  1.28188686e+00,  1.62271812e+00,\n",
       "         -3.70556452e-01,  2.60898888e+00,  8.32275684e-01,\n",
       "          9.29077998e-01],\n",
       "        [-7.08421535e-01,  1.11172836e+00,  1.81452449e+00,\n",
       "          2.33064565e+00, -4.63361193e-02,  1.00659764e-01,\n",
       "          1.57659955e+00,  3.09696927e-02,  1.36357736e-01,\n",
       "         -1.40051617e-01],\n",
       "        [-1.79129406e+00,  4.01799413e+00, -4.51290546e-02,\n",
       "          2.61692425e+00, -5.14991463e-01,  6.52637824e-01,\n",
       "         -2.62283825e-01,  1.92160808e+00,  9.34974623e-01,\n",
       "          1.38914898e+00],\n",
       "        [-1.46340080e-01,  2.15788167e+00,  3.16972633e+00,\n",
       "         -6.26903334e-02,  1.59865289e+00, -1.13055658e+00,\n",
       "          2.25632619e+00, -1.36891208e+00,  3.86902582e+00,\n",
       "          2.92923325e+00],\n",
       "        [ 2.09121677e+00, -8.66922363e-01,  1.28005300e+00,\n",
       "         -1.24041266e-01,  3.41222061e+00,  2.57653843e+00,\n",
       "          2.22925688e+00,  1.62641146e+00,  1.52826776e+00,\n",
       "          2.20422095e+00],\n",
       "        [-3.79749704e-01,  2.32040909e+00,  4.75781250e-01,\n",
       "          8.98622119e-01,  1.19628234e+00,  1.17246572e+00,\n",
       "          2.31828225e+00,  3.35006395e-02,  3.68050390e-01,\n",
       "          6.34276757e-01],\n",
       "        [-6.66399733e-01,  2.95724172e+00, -1.29298285e+00,\n",
       "          3.18097709e+00,  6.02832542e-01,  2.23739189e+00,\n",
       "          4.36676381e-01,  1.91152369e+00,  1.83645532e+00,\n",
       "          1.77808082e+00],\n",
       "        [ 2.71649711e+00, -8.23398310e-01, -1.38468204e-01,\n",
       "          3.36588146e+00,  1.41702560e+00,  2.21371609e+00,\n",
       "         -2.97777127e-01,  1.54946234e+00,  9.06715112e-01,\n",
       "          2.47594301e+00],\n",
       "        [ 2.30941132e+00, -1.44135688e+00,  9.97576908e-01,\n",
       "          2.41834918e+00, -1.50317926e+00,  4.57882513e-01,\n",
       "         -7.78700473e-01,  1.84674959e+00,  9.23898733e-01,\n",
       "          1.31659342e+00],\n",
       "        [-2.19295917e+00,  3.90304996e+00,  9.19757998e-01,\n",
       "          3.79492843e+00, -2.88217437e-01,  2.48707120e+00,\n",
       "          2.22155356e-01,  1.39583730e+00,  1.22976223e+00,\n",
       "          6.11892589e-01],\n",
       "        [ 3.36187761e+00, -6.27329332e-01,  1.23683974e+00,\n",
       "         -5.08628090e-01,  3.31016090e-01,  1.67866159e+00,\n",
       "          2.26686990e+00, -4.05148684e-01, -7.57277726e-01,\n",
       "         -4.56971852e-01],\n",
       "        [-7.00591887e-01,  1.01893184e+00,  7.03669074e-01,\n",
       "          1.35221390e+00,  6.78185871e-01,  9.70789193e-02,\n",
       "         -4.26287270e-01,  3.44442592e+00,  1.65205154e+00,\n",
       "          3.61712678e+00],\n",
       "        [ 8.04755533e-01,  1.63476263e+00,  2.63171388e-02,\n",
       "          2.01607478e+00,  9.74249461e-01,  1.74893687e+00,\n",
       "          4.59305699e-01,  1.80714945e-01,  2.91283654e+00,\n",
       "          1.02814373e+00],\n",
       "        [ 2.94689813e-02,  2.38342018e+00, -9.70063703e-02,\n",
       "          7.03516653e-01,  1.56619601e+00,  9.38906124e-01,\n",
       "          8.79858578e-01,  6.50759513e-01,  1.61443146e+00,\n",
       "          2.48478702e+00],\n",
       "        [ 2.31623712e+00, -6.36530691e-01,  3.22953536e+00,\n",
       "          3.96715218e+00,  3.08982722e+00,  1.26764938e+00,\n",
       "          3.14633506e+00, -1.00594879e+00,  1.91241389e-01,\n",
       "         -1.00391410e+00],\n",
       "        [ 1.06178629e+00, -1.75654032e-01,  1.80521916e+00,\n",
       "         -1.98615338e-01,  7.14214994e-01, -3.61606333e-01,\n",
       "         -7.26605067e-01,  2.23860932e+00,  4.36972917e-01,\n",
       "          2.02328606e+00],\n",
       "        [ 1.07716630e+00, -1.16741297e-01,  2.90417487e+00,\n",
       "          1.23380186e+00,  3.15176393e+00,  2.12857586e+00,\n",
       "          3.86033993e+00, -1.03812441e+00,  1.68472656e+00,\n",
       "          1.64648819e+00],\n",
       "        [-1.27816333e+00,  3.67879378e+00, -3.10856443e-01,\n",
       "          3.54344512e-01,  3.13721118e+00,  2.29236550e+00,\n",
       "         -4.22600640e-01,  3.58219916e+00,  3.73064307e+00,\n",
       "          1.87848627e+00],\n",
       "        [ 3.07610077e+00, -7.27830427e-01,  8.09737493e-01,\n",
       "          3.68401582e+00, -2.20397385e+00,  2.18086565e+00,\n",
       "         -4.53485585e-01, -5.58972217e-02,  1.75192827e+00,\n",
       "         -5.32941311e-01],\n",
       "        [-7.44227440e-01,  3.28260904e+00,  9.80146971e-01,\n",
       "         -3.77836866e-01,  8.65126333e-01, -7.04816134e-01,\n",
       "         -1.40546928e+00,  4.26137223e+00, -1.58181534e+00,\n",
       "          6.37820307e-01],\n",
       "        [ 1.87752226e+00,  2.26872551e+00,  3.02627898e+00,\n",
       "          2.91225850e+00, -1.44261095e-01,  1.89232884e+00,\n",
       "          2.49692646e+00, -2.21960079e+00,  1.72354068e+00,\n",
       "         -2.04115358e+00],\n",
       "        [ 4.47947287e+00, -1.10650207e+00, -3.06020126e-01,\n",
       "         -9.14742828e-01,  2.35428223e+00,  4.37950352e+00,\n",
       "          2.32495215e+00,  8.02132192e-01, -4.34252238e-02,\n",
       "         -1.66370549e+00],\n",
       "        [ 1.80915866e+00, -3.39351631e-02,  9.56223533e-01,\n",
       "          8.71928124e-01,  7.55099557e-02,  2.86586564e-03,\n",
       "         -4.80169399e-01,  7.57987901e-01, -3.53376513e-01,\n",
       "         -3.17863756e-02],\n",
       "        [ 1.80112814e+00, -4.85257062e-01,  3.27294005e-01,\n",
       "          2.41157585e+00,  1.63178805e+00,  7.16922799e-01,\n",
       "          2.99256680e-02,  3.21652897e+00, -9.76933747e-01,\n",
       "         -5.90023027e-01],\n",
       "        [-1.88392373e+00,  3.27369640e+00,  2.99222180e+00,\n",
       "          1.49914453e+00,  2.53876557e+00, -6.08516912e-01,\n",
       "         -2.49081111e-01,  4.20333012e+00,  3.13247226e+00,\n",
       "          2.45778271e+00],\n",
       "        [-5.14636209e-01,  1.44914695e+00, -1.18214035e+00,\n",
       "          3.37805528e+00,  2.82640331e-02,  8.72711172e-01,\n",
       "         -7.13093965e-01,  2.91043534e+00,  1.80391258e-01,\n",
       "          3.15808307e+00],\n",
       "        [-3.61062167e-01,  1.22053397e+00, -4.88914500e-01,\n",
       "          3.63612949e-02,  2.92284390e+00,  1.61030943e+00,\n",
       "          2.19249845e+00,  5.17936500e-01,  1.45307754e-01,\n",
       "          2.66448154e+00],\n",
       "        [ 9.63598083e-01,  6.33395169e-01,  3.84014965e+00,\n",
       "         -2.18186497e-01, -5.84572989e-01, -9.56608320e-01,\n",
       "          8.64754501e-01,  2.34312255e-01,  2.09713229e+00,\n",
       "          3.54084605e-01],\n",
       "        [ 9.13785451e-01,  1.48098342e+00,  3.95172432e+00,\n",
       "         -2.65608356e-01, -5.27917643e-01, -1.56612720e+00,\n",
       "          1.32431951e+00, -7.60888981e-02, -1.08467558e+00,\n",
       "         -1.01703999e+00],\n",
       "        [ 1.37264690e+00,  2.87628731e-01,  2.34365313e+00,\n",
       "         -1.09517825e+00,  1.49558314e+00,  9.62633442e-01,\n",
       "          4.05036193e+00, -9.31096657e-01,  2.39004560e+00,\n",
       "          1.11538773e+00],\n",
       "        [ 9.49097376e-01,  2.91544055e-01, -1.25012562e-02,\n",
       "         -2.83019082e-01,  2.37407899e+00,  3.91525877e+00,\n",
       "          4.00295975e+00, -1.65231189e-01,  1.96136666e+00,\n",
       "          1.37997765e+00],\n",
       "        [-1.45220985e-02,  3.29563970e+00,  3.67767143e+00,\n",
       "          2.08065275e+00,  2.19686156e+00,  1.95978581e+00,\n",
       "          2.50625284e+00, -1.05392269e+00,  2.63968967e+00,\n",
       "         -1.51104144e+00],\n",
       "        [ 2.01787803e-01,  8.59042700e-01,  1.26865419e+00,\n",
       "          1.23686268e+00,  3.49731252e+00,  1.22556938e+00,\n",
       "          4.26939143e+00, -9.75930670e-01,  1.84080955e+00,\n",
       "          2.45447170e+00],\n",
       "        [ 1.77929174e+00,  2.41908252e+00,  2.09672720e+00,\n",
       "          2.83761775e+00, -1.10094282e+00,  1.92688039e+00,\n",
       "         -9.85303452e-01, -3.17923326e-01,  1.59277803e+00,\n",
       "         -1.75999163e+00],\n",
       "        [-1.35635140e+00,  2.84350189e+00,  3.06003145e+00,\n",
       "          1.60164899e+00,  2.30641127e+00,  5.33541023e-01,\n",
       "          2.34652455e+00,  2.70173906e+00,  1.12620322e+00,\n",
       "          2.45602333e+00],\n",
       "        [ 1.02727112e+00,  5.69564992e-01, -7.94978277e-02,\n",
       "         -1.71035526e-01,  2.39195917e+00,  1.40446390e+00,\n",
       "          2.65096680e+00,  9.51431428e-01,  7.49259479e-01,\n",
       "         -5.83882951e-01],\n",
       "        [ 3.32499613e-01, -3.76808423e-01,  1.67248020e+00,\n",
       "         -1.36825000e-01,  2.26469440e+00,  1.32018039e-01,\n",
       "          3.81747573e-01,  2.74770433e+00, -1.06858819e-01,\n",
       "          2.27037983e+00],\n",
       "        [ 2.28368545e-01,  1.53068898e+00,  1.89170809e+00,\n",
       "         -8.34833890e-01, -3.23675001e-01, -3.63598900e-01,\n",
       "          1.37228735e+00,  1.68646231e+00,  1.47932890e+00,\n",
       "          4.22532235e-01],\n",
       "        [ 4.80506221e+00, -1.36431349e+00,  2.06407633e+00,\n",
       "         -2.02808982e-01,  2.61854424e+00,  2.64190094e+00,\n",
       "          1.81143793e+00, -3.07401019e-01,  3.62031887e+00,\n",
       "          6.23376510e-01],\n",
       "        [ 2.76214842e+00, -1.17387504e+00, -6.64290572e-01,\n",
       "         -6.55173016e-01,  2.63820086e+00,  4.77765612e+00,\n",
       "          3.24338753e+00,  7.74617475e-01,  3.90455651e+00,\n",
       "          4.43349591e+00],\n",
       "        [ 3.99922414e-01,  2.47612172e+00, -4.51397093e-01,\n",
       "          1.49763262e+00,  8.42815403e-01,  1.54144641e+00,\n",
       "          2.24792362e-01,  4.70588450e-01,  2.80409101e+00,\n",
       "          1.18009865e+00],\n",
       "        [ 3.27268018e+00, -1.03752075e+00,  4.62406722e-01,\n",
       "          1.08257163e+00,  2.18682371e+00,  2.34432406e+00,\n",
       "          2.57729203e+00,  5.36901539e-01,  1.43083030e-01,\n",
       "          4.94022479e-01],\n",
       "        [ 2.10566461e+00, -1.92371632e+00,  1.36398818e+00,\n",
       "          2.76117318e-01,  1.75001527e+00,  1.62213124e+00,\n",
       "          1.58513709e+00,  8.41862858e-01,  9.44632706e-01,\n",
       "          1.41846788e+00],\n",
       "        [-4.56519352e-02,  5.95601215e-01, -3.82602144e-02,\n",
       "          4.40900737e-01,  4.86758172e-01,  4.24207720e-01,\n",
       "          1.40765099e+00,  7.75706314e-01,  2.86591007e-01,\n",
       "          1.12686463e+00],\n",
       "        [ 1.43583857e+00, -2.61724552e-01,  2.60916041e+00,\n",
       "         -4.19615648e-01, -7.94638291e-01, -1.88999395e+00,\n",
       "          4.53400330e-01,  1.74461260e+00,  1.81499331e+00,\n",
       "          1.03618725e+00],\n",
       "        [-1.66646647e-01,  2.42976101e-02,  1.94838397e-01,\n",
       "          4.54467568e-01,  2.46096058e+00,  8.62537795e-01,\n",
       "          1.67392571e-01,  3.12270251e+00,  4.40129623e-02,\n",
       "          2.66128006e+00],\n",
       "        [-8.22532659e-01,  2.95944013e+00, -6.52189950e-01,\n",
       "          2.90354272e+00,  5.81373095e-01,  1.22442131e+00,\n",
       "         -9.44371333e-01,  3.50646574e+00,  1.13604474e+00,\n",
       "          2.05335901e+00],\n",
       "        [ 3.86002835e+00, -1.12421868e+00,  1.15688627e+00,\n",
       "         -2.15232282e+00,  2.48667341e+00,  2.08423191e+00,\n",
       "          2.05955659e+00, -4.31695488e-01,  1.32529187e+00,\n",
       "          1.05896368e+00],\n",
       "        [-1.11907769e+00, -2.26313571e+00, -2.28830697e+00,\n",
       "         -2.13896969e+00, -1.91935630e+00, -2.28083268e+00,\n",
       "         -2.38280100e+00, -1.54554376e+00, -1.68782476e+00,\n",
       "         -2.31213621e+00]])}"
      ]
     },
     "execution_count": 44,
     "metadata": {},
     "output_type": "execute_result"
    }
   ],
   "source": [
    "best_parameters"
   ]
  },
  {
   "cell_type": "code",
   "execution_count": null,
   "metadata": {},
   "outputs": [],
   "source": []
  }
 ],
 "metadata": {
  "kernelspec": {
   "display_name": "Python 3",
   "language": "python",
   "name": "python3"
  },
  "language_info": {
   "codemirror_mode": {
    "name": "ipython",
    "version": 3
   },
   "file_extension": ".py",
   "mimetype": "text/x-python",
   "name": "python",
   "nbconvert_exporter": "python",
   "pygments_lexer": "ipython3",
   "version": "3.6.12"
  }
 },
 "nbformat": 4,
 "nbformat_minor": 4
}
