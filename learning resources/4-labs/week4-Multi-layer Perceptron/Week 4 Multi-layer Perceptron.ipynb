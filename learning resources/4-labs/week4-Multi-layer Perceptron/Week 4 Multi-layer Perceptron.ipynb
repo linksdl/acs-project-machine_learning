{
 "cells": [
  {
   "cell_type": "code",
   "execution_count": 1,
   "metadata": {},
   "outputs": [],
   "source": [
    "import numpy as np"
   ]
  },
  {
   "cell_type": "markdown",
   "metadata": {},
   "source": [
    "#### In this lab, we will implement the multi-layer perceptron (MLP) algorithm for a single neuron. "
   ]
  },
  {
   "cell_type": "markdown",
   "metadata": {},
   "source": [
    "![The Multi-layer Perceptron Algorithm](mlp.png)"
   ]
  },
  {
   "cell_type": "code",
   "execution_count": 2,
   "metadata": {},
   "outputs": [
    {
     "data": {
      "text/plain": [
       "array([[0, 0, 0],\n",
       "       [0, 1, 1],\n",
       "       [1, 0, 1],\n",
       "       [1, 1, 0]])"
      ]
     },
     "execution_count": 2,
     "metadata": {},
     "output_type": "execute_result"
    }
   ],
   "source": [
    "# let's implement the MLP algorithm on the XOR logic function\n",
    "# In last week tutorial on single layer perceptron, we saw \n",
    "# it's implossible to get 100% accuracy on the XOR logic table (why?)\n",
    "# now let's see if multi-layer perceptron, we will perform better\n",
    "xordata = np.array([[0,0,0],[0,1,1],[1,0,1],[1,1,0]])\n",
    "xordata"
   ]
  },
  {
   "cell_type": "code",
   "execution_count": 3,
   "metadata": {},
   "outputs": [
    {
     "data": {
      "text/plain": [
       "array([[0, 0],\n",
       "       [0, 1],\n",
       "       [1, 0],\n",
       "       [1, 1]])"
      ]
     },
     "execution_count": 3,
     "metadata": {},
     "output_type": "execute_result"
    }
   ],
   "source": [
    "# The inputs\n",
    "inputs = xordata[:,:2]\n",
    "inputs"
   ]
  },
  {
   "cell_type": "code",
   "execution_count": 4,
   "metadata": {},
   "outputs": [
    {
     "data": {
      "text/plain": [
       "array([[0],\n",
       "       [1],\n",
       "       [1],\n",
       "       [0]])"
      ]
     },
     "execution_count": 4,
     "metadata": {},
     "output_type": "execute_result"
    }
   ],
   "source": [
    "# the targets \n",
    "targets = xordata[:,2:]\n",
    "targets"
   ]
  },
  {
   "cell_type": "code",
   "execution_count": 5,
   "metadata": {},
   "outputs": [],
   "source": [
    "# we will implement two layer perceptron: one hidden layer and one output layer \n",
    "# we will need to initialise two weights matrices, one for each layer. \n",
    "# the shape of hidden-layer weights matrix is deterimned by the samples features\n",
    "# and by the number of hidden neurons. The shape of the output-layer weights matrix    \n",
    "# is determined by the number of hidden neurons and the number of outputs\n",
    "nin = np.shape(inputs)[1]\n",
    "nout = np.shape(targets)[1]\n",
    "nhidden = 2 # this is chosen to be small because our dataset is small but you could try different number \n",
    "\n",
    "weights1 = (np.random.rand(nin+1,nhidden)-0.5)*2/np.sqrt(nin) # hidden-layer weights\n",
    "weights2 = (np.random.rand(nhidden+1,nout)-0.5)*2/np.sqrt(nhidden) # output-layer weights"
   ]
  },
  {
   "cell_type": "code",
   "execution_count": 6,
   "metadata": {},
   "outputs": [
    {
     "data": {
      "text/plain": [
       "array([[ 0.,  0., -1.],\n",
       "       [ 0.,  1., -1.],\n",
       "       [ 1.,  0., -1.],\n",
       "       [ 1.,  1., -1.]])"
      ]
     },
     "execution_count": 6,
     "metadata": {},
     "output_type": "execute_result"
    }
   ],
   "source": [
    "# adding bias to the inputs \n",
    "ndata = np.shape(inputs)[0] # number of samples\n",
    "inputs = np.concatenate((inputs,-np.ones((ndata,1))),axis=1)\n",
    "inputs"
   ]
  },
  {
   "cell_type": "code",
   "execution_count": 7,
   "metadata": {},
   "outputs": [],
   "source": [
    "# this is empty arrays to store the update weights \n",
    "updatew1 = np.zeros((np.shape(weights1)))\n",
    "updatew2 = np.zeros((np.shape(weights2)))"
   ]
  },
  {
   "cell_type": "code",
   "execution_count": 10,
   "metadata": {},
   "outputs": [
    {
     "name": "stdout",
     "output_type": "stream",
     "text": [
      "Iteration:  0  Error:  0.4363173903701296\n",
      "Iteration:  100  Error:  0.41444605946821805\n",
      "Iteration:  200  Error:  0.3908969326820973\n",
      "Iteration:  300  Error:  0.3681361890329023\n",
      "Iteration:  400  Error:  0.3480922692712466\n",
      "Iteration:  500  Error:  0.33158911364398336\n",
      "Iteration:  600  Error:  0.31851214740901307\n",
      "Iteration:  700  Error:  0.3082980029714214\n",
      "Iteration:  800  Error:  0.30030964507471963\n",
      "Iteration:  900  Error:  0.2940008541740766\n",
      "Iteration:  1000  Error:  0.2889510193964272\n",
      "Iteration:  1100  Error:  0.28484990428985973\n",
      "Iteration:  1200  Error:  0.2814716724227573\n",
      "Iteration:  1300  Error:  0.27865168373707194\n",
      "Iteration:  1400  Error:  0.2762688748246722\n",
      "Iteration:  1500  Error:  0.27423316085677507\n",
      "Iteration:  1600  Error:  0.27247662127427585\n",
      "Iteration:  1700  Error:  0.27094735826634697\n",
      "Iteration:  1800  Error:  0.2696051980796707\n",
      "Iteration:  1900  Error:  0.2684186552355109\n",
      "Iteration:  2000  Error:  0.26736276480766863\n",
      "Iteration:  2100  Error:  0.2664175159475305\n",
      "Iteration:  2200  Error:  0.2655667060575059\n",
      "Iteration:  2300  Error:  0.26479709256820383\n",
      "Iteration:  2400  Error:  0.2640977577186479\n",
      "Iteration:  2500  Error:  0.2634596275614902\n",
      "Iteration:  2600  Error:  0.2628751039045741\n",
      "Iteration:  2700  Error:  0.26233777986135204\n",
      "Iteration:  2800  Error:  0.26184221794870344\n",
      "Iteration:  2900  Error:  0.26138377544435665\n",
      "Iteration:  3000  Error:  0.26095846579198734\n",
      "Iteration:  3100  Error:  0.26056284774953276\n",
      "Iteration:  3200  Error:  0.26019393607137564\n",
      "Iteration:  3300  Error:  0.2598491290395957\n",
      "Iteration:  3400  Error:  0.2595261492792954\n",
      "Iteration:  3500  Error:  0.2592229951229616\n",
      "Iteration:  3600  Error:  0.25893790040923775\n",
      "Iteration:  3700  Error:  0.2586693010690918\n",
      "Iteration:  3800  Error:  0.25841580720755536\n",
      "Iteration:  3900  Error:  0.2581761796610428\n",
      "Iteration:  4000  Error:  0.25794931021976875\n",
      "Iteration:  4100  Error:  0.25773420486737064\n",
      "Iteration:  4200  Error:  0.25752996951682317\n",
      "Iteration:  4300  Error:  0.25733579782153426\n",
      "Iteration:  4400  Error:  0.25715096071939947\n",
      "Iteration:  4500  Error:  0.25697479743032015\n",
      "Iteration:  4600  Error:  0.2568067076778211\n",
      "Iteration:  4700  Error:  0.2566461449456888\n",
      "Iteration:  4800  Error:  0.25649261061307566\n",
      "Iteration:  4900  Error:  0.25634564883790245\n"
     ]
    }
   ],
   "source": [
    "niterations = 5000\n",
    "eta = 0.25 # learning rate \n",
    "# training loop \n",
    "beta = 1 \n",
    "for n in range(niterations):\n",
    "    \n",
    "    ## forward phase\n",
    "    hidden = np.dot(inputs,weights1) \n",
    "    hidden = 1.0/(1.0+np.exp(-beta*hidden)) # activation fucntion: sigmoid function (4.5)\n",
    "    hidden = np.concatenate((hidden,-np.ones((np.shape(inputs)[0],1))),axis=1) # adding bias\n",
    "    \n",
    "    # the output neuron is linear \n",
    "    outputs = np.dot( hidden, weights2)\n",
    "    \n",
    "    \n",
    "    \n",
    "    # compute the error using the sum-of-squares error function\n",
    "    error = 0.5*np.sum((outputs-targets)**2)\n",
    "    if (n % 100) == 0:\n",
    "        print(\"Iteration: \",n, \" Error: \",error) \n",
    "    \n",
    "    ## backward phase \n",
    "    deltao = (outputs-targets)/ndata # because the output layer is linear     \n",
    "    deltah = hidden*beta*(1.0-hidden)*(np.dot(deltao,np.transpose(weights2))) # (4.9)\n",
    "    \n",
    "    # updating the weights \n",
    "    updatew1 = eta*(np.dot(np.transpose(inputs),deltah[:,:-1])) \n",
    "    updatew2 = eta*(np.dot(np.transpose(hidden),deltao))\n",
    "    \n",
    "    \n",
    "    weights1 -= updatew1\n",
    "    weights2 -= updatew2"
   ]
  },
  {
   "cell_type": "code",
   "execution_count": 9,
   "metadata": {
    "scrolled": true
   },
   "outputs": [
    {
     "data": {
      "text/plain": [
       "array([[0],\n",
       "       [0],\n",
       "       [1],\n",
       "       [1]])"
      ]
     },
     "execution_count": 9,
     "metadata": {},
     "output_type": "execute_result"
    }
   ],
   "source": [
    "outputs = np.where(outputs>0.5,1,0)\n",
    "outputs"
   ]
  }
 ],
 "metadata": {
  "kernelspec": {
   "display_name": "Python 3",
   "language": "python",
   "name": "python3"
  },
  "language_info": {
   "codemirror_mode": {
    "name": "ipython",
    "version": 3
   },
   "file_extension": ".py",
   "mimetype": "text/x-python",
   "name": "python",
   "nbconvert_exporter": "python",
   "pygments_lexer": "ipython3",
   "version": "3.6.12"
  }
 },
 "nbformat": 4,
 "nbformat_minor": 4
}
