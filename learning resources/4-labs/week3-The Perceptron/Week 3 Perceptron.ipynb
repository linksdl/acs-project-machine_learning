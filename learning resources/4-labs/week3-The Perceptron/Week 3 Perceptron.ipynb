{
 "cells": [
  {
   "cell_type": "code",
   "execution_count": 1,
   "metadata": {},
   "outputs": [],
   "source": [
    "import numpy as np"
   ]
  },
  {
   "cell_type": "markdown",
   "metadata": {},
   "source": [
    "#### In this lab, we will implement the perceptron algorithm for a single layer. "
   ]
  },
  {
   "cell_type": "markdown",
   "metadata": {},
   "source": [
    "![Perceptron Algorithm](pcn.png)"
   ]
  },
  {
   "cell_type": "code",
   "execution_count": 2,
   "metadata": {},
   "outputs": [
    {
     "data": {
      "text/plain": [
       "array([[0, 0, 0],\n",
       "       [0, 1, 0],\n",
       "       [1, 0, 0],\n",
       "       [1, 1, 1]])"
      ]
     },
     "execution_count": 2,
     "metadata": {},
     "output_type": "execute_result"
    }
   ],
   "source": [
    "# Let's implement the algorithm on the AND logic function \n",
    "a = np.array([[0,0,0],[0,1,0],[1,0,0],[1,1,1]]) # AND logic table \n",
    "a"
   ]
  },
  {
   "cell_type": "code",
   "execution_count": 3,
   "metadata": {},
   "outputs": [
    {
     "data": {
      "text/plain": [
       "array([[0, 0],\n",
       "       [0, 1],\n",
       "       [1, 0],\n",
       "       [1, 1]])"
      ]
     },
     "execution_count": 3,
     "metadata": {},
     "output_type": "execute_result"
    }
   ],
   "source": [
    "# This is the input\n",
    "inputs = a[:,:2] \n",
    "inputs"
   ]
  },
  {
   "cell_type": "code",
   "execution_count": 4,
   "metadata": {},
   "outputs": [
    {
     "data": {
      "text/plain": [
       "array([[0],\n",
       "       [0],\n",
       "       [0],\n",
       "       [1]])"
      ]
     },
     "execution_count": 4,
     "metadata": {},
     "output_type": "execute_result"
    }
   ],
   "source": [
    "# and this the target \n",
    "targets = a[:,2:]\n",
    "targets"
   ]
  },
  {
   "cell_type": "code",
   "execution_count": 5,
   "metadata": {},
   "outputs": [
    {
     "data": {
      "text/plain": [
       "(2, 1)"
      ]
     },
     "execution_count": 5,
     "metadata": {},
     "output_type": "execute_result"
    }
   ],
   "source": [
    "# set up the network size \n",
    "# We need to know the shape of the weights matrix \n",
    "# it is determined by the number of features in the input samples\n",
    "# and the number of outputs in the samples \n",
    "nIn = np.shape(inputs)[1]\n",
    "nOut = np.shape(targets)[1]\n",
    "nIn, nOut"
   ]
  },
  {
   "cell_type": "code",
   "execution_count": 8,
   "metadata": {},
   "outputs": [
    {
     "data": {
      "text/plain": [
       "array([[-0.00687574],\n",
       "       [ 0.01042767],\n",
       "       [ 0.00881583]])"
      ]
     },
     "execution_count": 8,
     "metadata": {},
     "output_type": "execute_result"
    }
   ],
   "source": [
    "# Initialise the weights to small (positive and negative) random numbers\n",
    "# here we add one row to the weights matrix for the bias\n",
    "weights = np.random.rand(nIn+1,nOut)*0.1-0.05\n",
    "weights\n",
    "# weights.shape"
   ]
  },
  {
   "cell_type": "code",
   "execution_count": 11,
   "metadata": {},
   "outputs": [
    {
     "data": {
      "text/plain": [
       "array([[ 0.,  0., -1.],\n",
       "       [ 0.,  1., -1.],\n",
       "       [ 1.,  0., -1.],\n",
       "       [ 1.,  1., -1.]])"
      ]
     },
     "execution_count": 11,
     "metadata": {},
     "output_type": "execute_result"
    }
   ],
   "source": [
    "# Adding the bias to the inputs samples \n",
    "nData = np.shape(inputs)[0] # number of samples\n",
    "inputs = np.concatenate((inputs,-np.ones((nData,1))),axis=1)\n",
    "inputs"
   ]
  },
  {
   "cell_type": "code",
   "execution_count": 12,
   "metadata": {},
   "outputs": [],
   "source": [
    "# training loop \n",
    "eta = 0.25 # the learning rate \n",
    "nIterations = 10\n",
    "for n in range(nIterations):\n",
    "    \n",
    "    # Compute activations\n",
    "    activations = np.dot(inputs, weights)\n",
    "    \n",
    "    # Threshold the activations\n",
    "    activations = np.where(activations>0,1,0)\n",
    "    \n",
    "    # update the weights \n",
    "    weights -= eta*np.dot(np.transpose(inputs),activations-targets)"
   ]
  },
  {
   "cell_type": "code",
   "execution_count": 13,
   "metadata": {},
   "outputs": [
    {
     "data": {
      "text/plain": [
       "array([[0],\n",
       "       [0],\n",
       "       [0],\n",
       "       [1]])"
      ]
     },
     "execution_count": 13,
     "metadata": {},
     "output_type": "execute_result"
    }
   ],
   "source": [
    "# now let's classify the inputs samples\n",
    "outputs = np.dot(inputs,weights)\n",
    "outputs = np.where(outputs>0,1,0)\n",
    "outputs"
   ]
  },
  {
   "cell_type": "code",
   "execution_count": 15,
   "metadata": {},
   "outputs": [
    {
     "data": {
      "text/plain": [
       "1.0"
      ]
     },
     "execution_count": 15,
     "metadata": {},
     "output_type": "execute_result"
    }
   ],
   "source": [
    "# TODO: compute the accuracy \n",
    "num_correct = np.sum(outputs == targets)\n",
    "accuracy  = float(num_correct / nData)\n",
    "accuracy\n"
   ]
  },
  {
   "cell_type": "code",
   "execution_count": 16,
   "metadata": {},
   "outputs": [
    {
     "data": {
      "text/plain": [
       "array([[3., 0.],\n",
       "       [0., 1.]])"
      ]
     },
     "execution_count": 16,
     "metadata": {},
     "output_type": "execute_result"
    }
   ],
   "source": [
    "# TODO: compute the Confusion matrix\n",
    "nClasses = 2 # here we have two classes only \n",
    "cm = np.zeros((nClasses,nClasses))\n",
    "for i in range(nClasses):\n",
    "    for j in range(nClasses):\n",
    "        cm[i,j] = np.sum(np.where(outputs==i,1,0)*np.where(targets==j,1,0))\n",
    "\n",
    "cm      "
   ]
  },
  {
   "cell_type": "code",
   "execution_count": 17,
   "metadata": {},
   "outputs": [
    {
     "data": {
      "text/plain": [
       "array([[0, 0, 0],\n",
       "       [0, 1, 1],\n",
       "       [1, 0, 1],\n",
       "       [1, 1, 0]])"
      ]
     },
     "execution_count": 17,
     "metadata": {},
     "output_type": "execute_result"
    }
   ],
   "source": [
    "# TDOD: can you test the implementation on the XOR logic function? \n",
    "b = np.array([[0,0,0],[0,1,1],[1,0,1],[1,1,0]]) # XOR logic table \n",
    "b\n",
    "# Will we get 100% accuracies? if no, why? "
   ]
  },
  {
   "cell_type": "code",
   "execution_count": 19,
   "metadata": {},
   "outputs": [
    {
     "data": {
      "text/plain": [
       "0.5"
      ]
     },
     "execution_count": 19,
     "metadata": {},
     "output_type": "execute_result"
    }
   ],
   "source": [
    "inputs  = b[:,:2]\n",
    "targets = b[:,2:]\n",
    "nIn = np.shape(inputs)[1]\n",
    "nOut = np.shape(targets)[1]\n",
    "weights = np.random.rand(nIn+1,nOut)*0.1-0.05\n",
    "nData = np.shape(inputs)[0] # number of samples\n",
    "inputs = np.concatenate((inputs,-np.ones((nData,1))),axis=1)\n",
    "\n",
    "\n",
    "eta = 0.25 # the learning rate \n",
    "nIterations = 10\n",
    "for n in range(nIterations):\n",
    "    \n",
    "    # Compute activations\n",
    "    activations = np.dot(inputs, weights)\n",
    "    \n",
    "    # Threshold the activations\n",
    "    activations = np.where(activations>0,1,0)\n",
    "    \n",
    "    # update the weights \n",
    "    weights -= eta*np.dot(np.transpose(inputs),activations-targets)\n",
    "    \n",
    "\n",
    "outputs = np.dot(inputs,weights)\n",
    "outputs = np.where(outputs>0,1,0)\n",
    "num_correct = np.sum(outputs == targets) # number of correct classifications\n",
    "accuracy = float(num_correct) / nData # accuracy \n",
    "accuracy"
   ]
  },
  {
   "cell_type": "code",
   "execution_count": 20,
   "metadata": {},
   "outputs": [
    {
     "data": {
      "text/plain": [
       "array([[2., 2.],\n",
       "       [0., 0.]])"
      ]
     },
     "execution_count": 20,
     "metadata": {},
     "output_type": "execute_result"
    }
   ],
   "source": [
    "nClasses = 2 # here we have two classes only \n",
    "cm = np.zeros((nClasses,nClasses))\n",
    "for i in range(nClasses):\n",
    "    for j in range(nClasses):\n",
    "        cm[i,j] = np.sum(np.where(outputs==i,1,0)*np.where(targets==j,1,0))\n",
    "\n",
    "cm "
   ]
  },
  {
   "cell_type": "code",
   "execution_count": null,
   "metadata": {},
   "outputs": [],
   "source": []
  }
 ],
 "metadata": {
  "kernelspec": {
   "display_name": "Python 3",
   "language": "python",
   "name": "python3"
  },
  "language_info": {
   "codemirror_mode": {
    "name": "ipython",
    "version": 3
   },
   "file_extension": ".py",
   "mimetype": "text/x-python",
   "name": "python",
   "nbconvert_exporter": "python",
   "pygments_lexer": "ipython3",
   "version": "3.6.12"
  }
 },
 "nbformat": 4,
 "nbformat_minor": 4
}
